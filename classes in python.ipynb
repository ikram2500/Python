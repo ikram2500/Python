{
 "cells": [
  {
   "cell_type": "markdown",
   "id": "5164c7c7",
   "metadata": {},
   "source": [
    "# l1 = [1,2,3,4]\n",
    "for i in range(2,7,3):\n",
    "    print(i)"
   ]
  },
  {
   "cell_type": "code",
   "execution_count": 7,
   "id": "884df92b",
   "metadata": {},
   "outputs": [
    {
     "name": "stdout",
     "output_type": "stream",
     "text": [
      "0\n",
      "1\n",
      "2\n",
      "3\n",
      "4\n",
      "5\n"
     ]
    }
   ],
   "source": [
    "for i in range(0,80):\n",
    "    print(i)\n",
    "    if i==5:\n",
    "        break\n"
   ]
  },
  {
   "cell_type": "code",
   "execution_count": 9,
   "id": "e2c649e6",
   "metadata": {
    "scrolled": true
   },
   "outputs": [
    {
     "name": "stdout",
     "output_type": "stream",
     "text": [
      "printing\n",
      "printing\n",
      "printing\n",
      "printing\n"
     ]
    }
   ],
   "source": [
    "for i in range(4):\n",
    "    print('printing')\n",
    "    if i ==2:\n",
    "        continue\n",
    "        print(i)"
   ]
  },
  {
   "cell_type": "code",
   "execution_count": 34,
   "id": "bb101f3e",
   "metadata": {},
   "outputs": [
    {
     "name": "stdout",
     "output_type": "stream",
     "text": [
      "hello  hasnain\n"
     ]
    }
   ],
   "source": [
    "def greetings(name):\n",
    "    print('hello' + '  ' +name)\n",
    "greetings('hasnain')"
   ]
  },
  {
   "cell_type": "code",
   "execution_count": 36,
   "id": "ef3cb873",
   "metadata": {},
   "outputs": [
    {
     "name": "stdout",
     "output_type": "stream",
     "text": [
      "hello  Ikram\n"
     ]
    }
   ],
   "source": [
    "greetings('Ikram')"
   ]
  },
  {
   "cell_type": "code",
   "execution_count": 37,
   "id": "d8562308",
   "metadata": {},
   "outputs": [
    {
     "data": {
      "text/plain": [
       "35"
      ]
     },
     "execution_count": 37,
     "metadata": {},
     "output_type": "execute_result"
    }
   ],
   "source": [
    "def Multiply(a, b):\n",
    "    c = a*b\n",
    "    return c\n",
    "Multiply(5,7)"
   ]
  },
  {
   "cell_type": "code",
   "execution_count": null,
   "id": "3d5f55bd",
   "metadata": {},
   "outputs": [],
   "source": [
    "#file i/o"
   ]
  },
  {
   "cell_type": "code",
   "execution_count": null,
   "id": "7e3f90cd",
   "metadata": {},
   "outputs": [],
   "source": [
    "data = open('this.txt', 'r')"
   ]
  },
  {
   "cell_type": "code",
   "execution_count": 38,
   "id": "88a362aa",
   "metadata": {},
   "outputs": [
    {
     "name": "stdout",
     "output_type": "stream",
     "text": [
      "ikram\n"
     ]
    }
   ],
   "source": [
    "'''\n",
    "text =data.read()\n",
    "print(text)\n",
    "data.close()\n",
    "r => open for reading\n",
    "w = open for writing\n",
    "a = open for appending\n",
    "u => open for updating\n",
    "'''\n",
    "print('ikram')"
   ]
  },
  {
   "cell_type": "code",
   "execution_count": 41,
   "id": "148763aa",
   "metadata": {},
   "outputs": [
    {
     "data": {
      "text/plain": [
       "'lab'"
      ]
     },
     "execution_count": 41,
     "metadata": {},
     "output_type": "execute_result"
    }
   ],
   "source": [
    "class Dog():\n",
    "    def __init__(self, breed,name):\n",
    "        self.breed = breed\n",
    "        self.name = name"
   ]
  },
  {
   "cell_type": "code",
   "execution_count": 42,
   "id": "33d7c47c",
   "metadata": {},
   "outputs": [
    {
     "data": {
      "text/plain": [
       "'lab'"
      ]
     },
     "execution_count": 42,
     "metadata": {},
     "output_type": "execute_result"
    }
   ],
   "source": [
    "sam.breed"
   ]
  },
  {
   "cell_type": "code",
   "execution_count": 43,
   "id": "acfdaba8",
   "metadata": {},
   "outputs": [
    {
     "data": {
      "text/plain": [
       "'Huskle'"
      ]
     },
     "execution_count": 43,
     "metadata": {},
     "output_type": "execute_result"
    }
   ],
   "source": [
    "frank.breed"
   ]
  },
  {
   "cell_type": "code",
   "execution_count": 57,
   "id": "a77f45c1",
   "metadata": {},
   "outputs": [
    {
     "name": "stdout",
     "output_type": "stream",
     "text": [
      "12.568\n"
     ]
    }
   ],
   "source": [
    "class Circle():\n",
    "    pi = 3.142\n",
    "    \n",
    "    def __init__(self, radius = 1):\n",
    "        self.radius = radius\n",
    "    def area(self):\n",
    "        return self.radius*self.radius*Circle.pi\n",
    "c1 = Circle(2)\n",
    "print(c1.area())"
   ]
  },
  {
   "cell_type": "code",
   "execution_count": 59,
   "id": "78e273c0",
   "metadata": {},
   "outputs": [
    {
     "name": "stdout",
     "output_type": "stream",
     "text": [
      "12.568\n"
     ]
    }
   ],
   "source": [
    "c1 = Circle(2)\n",
    "print(c1.area())"
   ]
  },
  {
   "cell_type": "code",
   "execution_count": 64,
   "id": "e0eab3a5",
   "metadata": {},
   "outputs": [
    {
     "name": "stdout",
     "output_type": "stream",
     "text": [
      "Dog is created\n"
     ]
    }
   ],
   "source": [
    "class Animal():\n",
    "    def __init__(self):\n",
    "        print('Animal created')\n",
    "    def whoamI(self):\n",
    "        print('Animal')\n",
    "    \n",
    "    def eat(self):\n",
    "        print('eating')\n",
    "class Dog(Animal):\n",
    "    def __init__(self):\n",
    "        print('Dog is created')\n",
    "        \n",
    "    def whoamI(self):\n",
    "        print('Dog')\n",
    "    \n",
    "    def bark(self):\n",
    "        print('woof')\n"
   ]
  },
  {
   "cell_type": "code",
   "execution_count": 65,
   "id": "441087f1",
   "metadata": {},
   "outputs": [
    {
     "name": "stdout",
     "output_type": "stream",
     "text": [
      "Dog is created\n"
     ]
    }
   ],
   "source": [
    "d = Dog()"
   ]
  },
  {
   "cell_type": "code",
   "execution_count": 66,
   "id": "4ff99ff9",
   "metadata": {},
   "outputs": [
    {
     "name": "stdout",
     "output_type": "stream",
     "text": [
      "Dog\n"
     ]
    }
   ],
   "source": [
    "d.whoamI()"
   ]
  },
  {
   "cell_type": "code",
   "execution_count": 67,
   "id": "e8e05a45",
   "metadata": {},
   "outputs": [
    {
     "name": "stdout",
     "output_type": "stream",
     "text": [
      "eating\n"
     ]
    }
   ],
   "source": [
    "d.eat()"
   ]
  },
  {
   "cell_type": "code",
   "execution_count": 68,
   "id": "99cab2d7",
   "metadata": {},
   "outputs": [
    {
     "name": "stdout",
     "output_type": "stream",
     "text": [
      "woof\n"
     ]
    }
   ],
   "source": [
    "d.bark()"
   ]
  }
 ],
 "metadata": {
  "kernelspec": {
   "display_name": "Python 3 (ipykernel)",
   "language": "python",
   "name": "python3"
  },
  "language_info": {
   "codemirror_mode": {
    "name": "ipython",
    "version": 3
   },
   "file_extension": ".py",
   "mimetype": "text/x-python",
   "name": "python",
   "nbconvert_exporter": "python",
   "pygments_lexer": "ipython3",
   "version": "3.9.12"
  }
 },
 "nbformat": 4,
 "nbformat_minor": 5
}
